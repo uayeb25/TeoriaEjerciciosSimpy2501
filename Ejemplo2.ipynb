{
 "cells": [
  {
   "cell_type": "code",
   "execution_count": 1,
   "metadata": {},
   "outputs": [],
   "source": [
    "import simpy\n",
    "import random"
   ]
  },
  {
   "cell_type": "code",
   "execution_count": 11,
   "metadata": {},
   "outputs": [],
   "source": [
    "def productor( env , store ):\n",
    "    for i in range(5):\n",
    "        yield env.timeout(2)\n",
    "        for j in range(2):\n",
    "            print( f\" Productor , produce item {i}_{j} en tiempo: { env.now } \" )\n",
    "            yield store.put( f\"{i}_{j}\" )\n",
    "\n",
    "def consumidor( env , store ):\n",
    "    while True:\n",
    "        item = yield store.get()\n",
    "        print( f\" Consumidor recibe item {item} en tiempo { env.now } \" )\n",
    "        yield env.timeout(1)"
   ]
  },
  {
   "cell_type": "code",
   "execution_count": 12,
   "metadata": {},
   "outputs": [
    {
     "data": {
      "text/plain": [
       "<Process(consumidor) object at 0x11500a910>"
      ]
     },
     "execution_count": 12,
     "metadata": {},
     "output_type": "execute_result"
    }
   ],
   "source": [
    "env = simpy.Environment()\n",
    "store = simpy.Store( env )\n",
    "\n",
    "env.process( productor( env , store ) )\n",
    "env.process( consumidor( env , store ) )"
   ]
  },
  {
   "cell_type": "code",
   "execution_count": 13,
   "metadata": {},
   "outputs": [
    {
     "name": "stdout",
     "output_type": "stream",
     "text": [
      " Productor , produce item 0_0 en tiempo: 2 \n",
      " Productor , produce item 0_1 en tiempo: 2 \n",
      " Consumidor recibe item 0_0 en tiempo 2 \n",
      " Consumidor recibe item 0_1 en tiempo 3 \n",
      " Productor , produce item 1_0 en tiempo: 4 \n",
      " Productor , produce item 1_1 en tiempo: 4 \n",
      " Consumidor recibe item 1_0 en tiempo 4 \n",
      " Consumidor recibe item 1_1 en tiempo 5 \n",
      " Productor , produce item 2_0 en tiempo: 6 \n",
      " Productor , produce item 2_1 en tiempo: 6 \n",
      " Consumidor recibe item 2_0 en tiempo 6 \n",
      " Consumidor recibe item 2_1 en tiempo 7 \n",
      " Productor , produce item 3_0 en tiempo: 8 \n",
      " Productor , produce item 3_1 en tiempo: 8 \n",
      " Consumidor recibe item 3_0 en tiempo 8 \n",
      " Consumidor recibe item 3_1 en tiempo 9 \n"
     ]
    }
   ],
   "source": [
    "env.run( until = 10 )"
   ]
  },
  {
   "cell_type": "code",
   "execution_count": null,
   "metadata": {},
   "outputs": [],
   "source": []
  }
 ],
 "metadata": {
  "kernelspec": {
   "display_name": "Python 3",
   "language": "python",
   "name": "python3"
  },
  "language_info": {
   "codemirror_mode": {
    "name": "ipython",
    "version": 3
   },
   "file_extension": ".py",
   "mimetype": "text/x-python",
   "name": "python",
   "nbconvert_exporter": "python",
   "pygments_lexer": "ipython3",
   "version": "3.11.8"
  }
 },
 "nbformat": 4,
 "nbformat_minor": 2
}
