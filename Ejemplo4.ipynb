{
 "cells": [
  {
   "cell_type": "code",
   "execution_count": 100,
   "metadata": {},
   "outputs": [],
   "source": [
    "import simpy\n",
    "import random\n",
    "import pandas as pd"
   ]
  },
  {
   "cell_type": "code",
   "execution_count": 101,
   "metadata": {},
   "outputs": [],
   "source": [
    "class Cliente:\n",
    "\n",
    "    def __init__( self, env, id, cajero ):\n",
    "        self.env = env\n",
    "        self.id = id\n",
    "        self.cajero = cajero\n",
    "\n",
    "        self.df = pd.DataFrame()\n",
    "\n",
    "    def start(self):\n",
    "        print( f\" {self.id} llega al banco en tiempo: { self.env.now } \" )\n",
    "        t = pd.DataFrame({\n",
    "            \"nombre\": [self.id]\n",
    "            , \"tiempo\": [self.env.now]\n",
    "            , \"evento\": [\"llega\"]\n",
    "        })\n",
    "\n",
    "        with self.cajero.request() as req:\n",
    "            yield req\n",
    "            print( f\" {self.id} comienza transacciones en tiempo: { self.env.now } \" )\n",
    "            t2 = pd.DataFrame({\n",
    "                \"nombre\": [self.id]\n",
    "                , \"tiempo\": [self.env.now]\n",
    "                , \"evento\": [\"inicia\"]\n",
    "            })\n",
    "\n",
    "            yield self.env.timeout( random.randint( 5, 11 ) )\n",
    "            print( f\" {self.id} termina transacciones en tiempo: { self.env.now } \" )\n",
    "            t3 = pd.DataFrame({\n",
    "                \"nombre\": [self.id]\n",
    "                , \"tiempo\": [self.env.now]\n",
    "                , \"evento\": [\"fin\"]\n",
    "            })\n",
    "\n",
    "            self.df = pd.concat([t, t2, t3], ignore_index=True)"
   ]
  },
  {
   "cell_type": "code",
   "execution_count": 102,
   "metadata": {},
   "outputs": [],
   "source": [
    "def cliente( env, nombre, cajero ):\n",
    "    print( f\" {nombre} llega al banco en tiempo: { env.now } \" )\n",
    "    t = pd.DataFrame({\n",
    "        \"nombre\": [nombre]\n",
    "        , \"tiempo\": [env.now]\n",
    "        , \"evento\": [\"llega\"]\n",
    "    })\n",
    "\n",
    "    with cajero.request() as req:\n",
    "        yield req\n",
    "        print( f\" {nombre} comienza transacciones en tiempo: { env.now } \" )\n",
    "        t2 = pd.DataFrame({\n",
    "            \"nombre\": [nombre]\n",
    "            , \"tiempo\": [env.now]\n",
    "            , \"evento\": [\"inicia\"]\n",
    "        })\n",
    "\n",
    "        yield env.timeout( random.randint( 5, 11 ) )\n",
    "        print( f\" {nombre} termina transacciones en tiempo: { env.now } \" )\n",
    "        t3 = pd.DataFrame({\n",
    "            \"nombre\": [nombre]\n",
    "            , \"tiempo\": [env.now]\n",
    "            , \"evento\": [\"fin\"]\n",
    "        })\n",
    "\n",
    "        return pd.concat( [ t, t2, t3], ignore_index=True )"
   ]
  },
  {
   "cell_type": "code",
   "execution_count": 103,
   "metadata": {},
   "outputs": [],
   "source": [
    "def generate_clientes(env, n, cajero):\n",
    "    for i in range(n):\n",
    "        yield env.timeout( random.randint( 2, 4 ) )\n",
    "        c1 = Cliente( env, f\"Cliente {i}\", cajero )\n",
    "        env.process( c1.start() )\n",
    "        print( c1.df )"
   ]
  },
  {
   "cell_type": "code",
   "execution_count": 104,
   "metadata": {},
   "outputs": [],
   "source": [
    "class Generar:\n",
    "    def __init__( self, env, n_clientes, n_cajeros ):\n",
    "\n",
    "        self.env = env\n",
    "        self.cajero = simpy.Resource( env, capacity=n_cajeros )\n",
    "        self.n_clientes = n_clientes\n",
    "        self.clientes = []\n",
    "\n",
    "        self.env.process( self.start() )\n",
    "\n",
    "\n",
    "\n",
    "    def start(self):\n",
    "        for i in range(self.n_clientes):\n",
    "            yield self.env.timeout( random.randint( 2, 4 ) )\n",
    "            c1 = Cliente( self.env, f\"Cliente {i}\", self.cajero )\n",
    "            self.env.process( c1.start() )\n",
    "            self.clientes.append( c1 )\n",
    "\n",
    "\n"
   ]
  },
  {
   "cell_type": "code",
   "execution_count": 105,
   "metadata": {},
   "outputs": [
    {
     "name": "stdout",
     "output_type": "stream",
     "text": [
      " Cliente 0 llega al banco en tiempo: 2 \n",
      " Cliente 0 comienza transacciones en tiempo: 2 \n",
      " Cliente 1 llega al banco en tiempo: 5 \n",
      " Cliente 1 comienza transacciones en tiempo: 5 \n",
      " Cliente 2 llega al banco en tiempo: 7 \n",
      " Cliente 0 termina transacciones en tiempo: 10 \n",
      " Cliente 3 llega al banco en tiempo: 10 \n",
      " Cliente 2 comienza transacciones en tiempo: 10 \n",
      " Cliente 4 llega al banco en tiempo: 12 \n",
      " Cliente 1 termina transacciones en tiempo: 16 \n",
      " Cliente 3 comienza transacciones en tiempo: 16 \n",
      " Cliente 2 termina transacciones en tiempo: 21 \n",
      " Cliente 3 termina transacciones en tiempo: 21 \n",
      " Cliente 4 comienza transacciones en tiempo: 21 \n",
      " Cliente 4 termina transacciones en tiempo: 32 \n"
     ]
    }
   ],
   "source": [
    "env = simpy.Environment()\n",
    "gc = Generar( env, 5, 2 )\n",
    "env.run( until=200 )"
   ]
  },
  {
   "cell_type": "code",
   "execution_count": 106,
   "metadata": {},
   "outputs": [],
   "source": [
    "eda = pd.concat( [ c.df for c in gc.clientes ], ignore_index=True )"
   ]
  },
  {
   "cell_type": "code",
   "execution_count": 107,
   "metadata": {},
   "outputs": [],
   "source": [
    "inicio = eda.loc[ eda[\"evento\"] == \"inicia\" , [\"nombre\", \"tiempo\"]  ]\n",
    "llega = eda.loc[ eda[\"evento\"] == \"llega\" , [\"nombre\", \"tiempo\"]  ]"
   ]
  },
  {
   "cell_type": "code",
   "execution_count": 108,
   "metadata": {},
   "outputs": [],
   "source": [
    "p1 = inicio.merge(\n",
    "    llega\n",
    "    , on=[\"nombre\"]\n",
    "    , how=\"inner\"\n",
    ")"
   ]
  },
  {
   "cell_type": "code",
   "execution_count": 109,
   "metadata": {},
   "outputs": [],
   "source": [
    "p1[\"espera\"] = p1[\"tiempo_x\"] - p1[\"tiempo_y\"]"
   ]
  },
  {
   "cell_type": "code",
   "execution_count": 111,
   "metadata": {},
   "outputs": [
    {
     "data": {
      "text/plain": [
       "np.float64(3.6)"
      ]
     },
     "execution_count": 111,
     "metadata": {},
     "output_type": "execute_result"
    }
   ],
   "source": [
    "p1[\"espera\"].mean()"
   ]
  },
  {
   "cell_type": "code",
   "execution_count": null,
   "metadata": {},
   "outputs": [],
   "source": []
  }
 ],
 "metadata": {
  "kernelspec": {
   "display_name": "Python 3",
   "language": "python",
   "name": "python3"
  },
  "language_info": {
   "codemirror_mode": {
    "name": "ipython",
    "version": 3
   },
   "file_extension": ".py",
   "mimetype": "text/x-python",
   "name": "python",
   "nbconvert_exporter": "python",
   "pygments_lexer": "ipython3",
   "version": "3.11.8"
  }
 },
 "nbformat": 4,
 "nbformat_minor": 2
}
