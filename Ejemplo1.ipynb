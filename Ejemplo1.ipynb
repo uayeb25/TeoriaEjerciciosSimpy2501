{
 "cells": [
  {
   "cell_type": "code",
   "execution_count": 17,
   "metadata": {},
   "outputs": [],
   "source": [
    "import simpy\n",
    "import random"
   ]
  },
  {
   "cell_type": "code",
   "execution_count": 18,
   "metadata": {},
   "outputs": [],
   "source": [
    "def proceso_a(env):\n",
    "    while True:\n",
    "        print(f'proceso A ejecutado en { env.now }')\n",
    "        yield env.timeout(12)\n",
    "\n",
    "def proceso_b(env):\n",
    "    while True:\n",
    "        print(f'proceso B ejecutado en { env.now }')\n",
    "        yield env.timeout(2)"
   ]
  },
  {
   "cell_type": "code",
   "execution_count": 19,
   "metadata": {},
   "outputs": [],
   "source": [
    "def proceso( env , id , time ):\n",
    "    while True:\n",
    "        print(f'proceso {id} ejecutado en { env.now }')\n",
    "        yield env.timeout(time)"
   ]
  },
  {
   "cell_type": "code",
   "execution_count": 26,
   "metadata": {},
   "outputs": [],
   "source": [
    "env = simpy.Environment()\n",
    "\n",
    "for i in range(4):\n",
    "    env.process( proceso(env, f'ID{i}' , random.randint(3, 10) ) )\n",
    "\n"
   ]
  },
  {
   "cell_type": "code",
   "execution_count": 27,
   "metadata": {},
   "outputs": [
    {
     "name": "stdout",
     "output_type": "stream",
     "text": [
      "proceso ID0 ejecutado en 0\n",
      "proceso ID1 ejecutado en 0\n",
      "proceso ID2 ejecutado en 0\n",
      "proceso ID3 ejecutado en 0\n",
      "proceso ID3 ejecutado en 6\n",
      "proceso ID0 ejecutado en 8\n",
      "proceso ID1 ejecutado en 8\n",
      "proceso ID2 ejecutado en 10\n",
      "proceso ID3 ejecutado en 12\n",
      "proceso ID0 ejecutado en 16\n",
      "proceso ID1 ejecutado en 16\n",
      "proceso ID3 ejecutado en 18\n",
      "proceso ID2 ejecutado en 20\n",
      "proceso ID0 ejecutado en 24\n",
      "proceso ID1 ejecutado en 24\n",
      "proceso ID3 ejecutado en 24\n",
      "proceso ID2 ejecutado en 30\n",
      "proceso ID3 ejecutado en 30\n",
      "proceso ID0 ejecutado en 32\n",
      "proceso ID1 ejecutado en 32\n",
      "proceso ID3 ejecutado en 36\n",
      "proceso ID2 ejecutado en 40\n",
      "proceso ID0 ejecutado en 40\n",
      "proceso ID1 ejecutado en 40\n",
      "proceso ID3 ejecutado en 42\n",
      "proceso ID0 ejecutado en 48\n",
      "proceso ID1 ejecutado en 48\n",
      "proceso ID3 ejecutado en 48\n",
      "proceso ID2 ejecutado en 50\n",
      "proceso ID3 ejecutado en 54\n",
      "proceso ID0 ejecutado en 56\n",
      "proceso ID1 ejecutado en 56\n",
      "proceso ID2 ejecutado en 60\n",
      "proceso ID3 ejecutado en 60\n",
      "proceso ID0 ejecutado en 64\n",
      "proceso ID1 ejecutado en 64\n",
      "proceso ID3 ejecutado en 66\n",
      "proceso ID2 ejecutado en 70\n",
      "proceso ID0 ejecutado en 72\n",
      "proceso ID1 ejecutado en 72\n",
      "proceso ID3 ejecutado en 72\n",
      "proceso ID3 ejecutado en 78\n",
      "proceso ID2 ejecutado en 80\n",
      "proceso ID0 ejecutado en 80\n",
      "proceso ID1 ejecutado en 80\n",
      "proceso ID3 ejecutado en 84\n",
      "proceso ID0 ejecutado en 88\n",
      "proceso ID1 ejecutado en 88\n",
      "proceso ID2 ejecutado en 90\n",
      "proceso ID3 ejecutado en 90\n",
      "proceso ID0 ejecutado en 96\n",
      "proceso ID1 ejecutado en 96\n",
      "proceso ID3 ejecutado en 96\n"
     ]
    }
   ],
   "source": [
    "env.run(until=100)"
   ]
  },
  {
   "cell_type": "code",
   "execution_count": null,
   "metadata": {},
   "outputs": [],
   "source": []
  }
 ],
 "metadata": {
  "kernelspec": {
   "display_name": "Python 3",
   "language": "python",
   "name": "python3"
  },
  "language_info": {
   "codemirror_mode": {
    "name": "ipython",
    "version": 3
   },
   "file_extension": ".py",
   "mimetype": "text/x-python",
   "name": "python",
   "nbconvert_exporter": "python",
   "pygments_lexer": "ipython3",
   "version": "3.11.8"
  }
 },
 "nbformat": 4,
 "nbformat_minor": 2
}
