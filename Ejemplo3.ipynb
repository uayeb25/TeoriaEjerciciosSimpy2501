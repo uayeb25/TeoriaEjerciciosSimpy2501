{
 "cells": [
  {
   "cell_type": "code",
   "execution_count": 2,
   "metadata": {},
   "outputs": [],
   "source": [
    "import simpy\n",
    "import random"
   ]
  },
  {
   "cell_type": "code",
   "execution_count": 16,
   "metadata": {},
   "outputs": [],
   "source": [
    "def productor( env , store ):\n",
    "    i = 0\n",
    "    while True:\n",
    "        yield env.timeout(.5)\n",
    "        print( f\" Productor , produce item {i} en tiempo: { env.now } \" )\n",
    "        yield store.put( i )\n",
    "        yield store.put( i )\n",
    "\n",
    "        i += 1\n",
    "\n",
    "def consumidor( env , id ,store ):\n",
    "    while True:\n",
    "        item = yield store.get()\n",
    "        print( f\" Consumidor {id} recibe item {item} en tiempo { env.now } \" )\n",
    "        yield env.timeout(1)"
   ]
  },
  {
   "cell_type": "code",
   "execution_count": 17,
   "metadata": {},
   "outputs": [
    {
     "data": {
      "text/plain": [
       "<Process(consumidor) object at 0x116b78d50>"
      ]
     },
     "execution_count": 17,
     "metadata": {},
     "output_type": "execute_result"
    }
   ],
   "source": [
    "env = simpy.Environment()\n",
    "store = simpy.Store( env )\n",
    "\n",
    "env.process( productor( env , store ) )\n",
    "env.process( consumidor( env , \"A\" , store ) )\n",
    "env.process( consumidor( env , \"B\" , store ) )\n"
   ]
  },
  {
   "cell_type": "code",
   "execution_count": 18,
   "metadata": {},
   "outputs": [
    {
     "name": "stdout",
     "output_type": "stream",
     "text": [
      " Productor , produce item 0 en tiempo: 0.5 \n",
      " Consumidor A recibe item 0 en tiempo 0.5 \n",
      " Consumidor B recibe item 0 en tiempo 0.5 \n",
      " Productor , produce item 1 en tiempo: 1.0 \n",
      " Productor , produce item 2 en tiempo: 1.5 \n",
      " Consumidor A recibe item 1 en tiempo 1.5 \n",
      " Consumidor B recibe item 1 en tiempo 1.5 \n",
      " Productor , produce item 3 en tiempo: 2.0 \n",
      " Productor , produce item 4 en tiempo: 2.5 \n",
      " Consumidor A recibe item 2 en tiempo 2.5 \n",
      " Consumidor B recibe item 2 en tiempo 2.5 \n",
      " Productor , produce item 5 en tiempo: 3.0 \n",
      " Productor , produce item 6 en tiempo: 3.5 \n",
      " Consumidor A recibe item 3 en tiempo 3.5 \n",
      " Consumidor B recibe item 3 en tiempo 3.5 \n",
      " Productor , produce item 7 en tiempo: 4.0 \n",
      " Productor , produce item 8 en tiempo: 4.5 \n",
      " Consumidor A recibe item 4 en tiempo 4.5 \n",
      " Consumidor B recibe item 4 en tiempo 4.5 \n",
      " Productor , produce item 9 en tiempo: 5.0 \n",
      " Productor , produce item 10 en tiempo: 5.5 \n",
      " Consumidor A recibe item 5 en tiempo 5.5 \n",
      " Consumidor B recibe item 5 en tiempo 5.5 \n",
      " Productor , produce item 11 en tiempo: 6.0 \n",
      " Productor , produce item 12 en tiempo: 6.5 \n",
      " Consumidor A recibe item 6 en tiempo 6.5 \n",
      " Consumidor B recibe item 6 en tiempo 6.5 \n",
      " Productor , produce item 13 en tiempo: 7.0 \n",
      " Productor , produce item 14 en tiempo: 7.5 \n",
      " Consumidor A recibe item 7 en tiempo 7.5 \n",
      " Consumidor B recibe item 7 en tiempo 7.5 \n",
      " Productor , produce item 15 en tiempo: 8.0 \n",
      " Productor , produce item 16 en tiempo: 8.5 \n",
      " Consumidor A recibe item 8 en tiempo 8.5 \n",
      " Consumidor B recibe item 8 en tiempo 8.5 \n",
      " Productor , produce item 17 en tiempo: 9.0 \n",
      " Productor , produce item 18 en tiempo: 9.5 \n",
      " Consumidor A recibe item 9 en tiempo 9.5 \n",
      " Consumidor B recibe item 9 en tiempo 9.5 \n"
     ]
    }
   ],
   "source": [
    "env.run( until = 10 )"
   ]
  },
  {
   "cell_type": "code",
   "execution_count": null,
   "metadata": {},
   "outputs": [],
   "source": []
  }
 ],
 "metadata": {
  "kernelspec": {
   "display_name": "Python 3",
   "language": "python",
   "name": "python3"
  },
  "language_info": {
   "codemirror_mode": {
    "name": "ipython",
    "version": 3
   },
   "file_extension": ".py",
   "mimetype": "text/x-python",
   "name": "python",
   "nbconvert_exporter": "python",
   "pygments_lexer": "ipython3",
   "version": "3.11.8"
  }
 },
 "nbformat": 4,
 "nbformat_minor": 2
}
